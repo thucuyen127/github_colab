{
  "nbformat": 4,
  "nbformat_minor": 0,
  "metadata": {
    "colab": {
      "name": "github_colab.ipynb",
      "provenance": [],
      "private_outputs": true,
      "authorship_tag": "ABX9TyMMlqjPYWh+JR+gGt008h8s",
      "include_colab_link": true
    },
    "kernelspec": {
      "name": "python3",
      "display_name": "Python 3"
    },
    "accelerator": "TPU"
  },
  "cells": [
    {
      "cell_type": "markdown",
      "metadata": {
        "id": "view-in-github",
        "colab_type": "text"
      },
      "source": [
        "<a href=\"https://colab.research.google.com/github/thucuyen127/github_colab/blob/main/github_colab.ipynb\" target=\"_parent\"><img src=\"https://colab.research.google.com/assets/colab-badge.svg\" alt=\"Open In Colab\"/></a>"
      ]
    },
    {
      "cell_type": "markdown",
      "metadata": {
        "id": "Yx_hvQQaBhaP"
      },
      "source": [
        "**Đây là chương trình đầu tiên**"
      ]
    },
    {
      "cell_type": "code",
      "metadata": {
        "id": "7J-ORKSEBtK_"
      },
      "source": [
        "print(\"Hello Github & Colab\")"
      ],
      "execution_count": null,
      "outputs": []
    }
  ]
}